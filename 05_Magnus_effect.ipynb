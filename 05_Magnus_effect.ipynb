{
  "metadata": {
    "kernelspec": {
      "name": "xpython",
      "display_name": "Python 3.13 (XPython)",
      "language": "python"
    },
    "language_info": {
      "file_extension": ".py",
      "mimetype": "text/x-python",
      "name": "python",
      "version": "3.13.1"
    }
  },
  "nbformat_minor": 4,
  "nbformat": 4,
  "cells": [
    {
      "cell_type": "markdown",
      "source": "# Magnus effect: Lift on a cylinder",
      "metadata": {}
    },
    {
      "cell_type": "markdown",
      "source": "Remember when we computed uniform flow past a doublet resulting in the stream-line pattern produced flow around a cylinder. When studying the pressure coefficient, we realized that the drag on the cylinder was exactly zero (_D'Alembert paradox_).\n\nA perfectly circular cylinder can experience lift if it rotates, look for __Magnus__ effect.\n",
      "metadata": {}
    },
    {
      "cell_type": "markdown",
      "source": "The equations for the flow of a doublet. In Cartesian coordinates, a doublet located at the origin has a stream function and velocity components given by\n\n$$\\psi\\left(x,y\\right) = -\\frac{\\kappa}{2\\pi}\\frac{y}{x^2+y^2}$$\n\n\n$$u\\left(x,y\\right) = \\frac{\\partial\\psi}{\\partial y} = -\\frac{\\kappa}{2\\pi}\\frac{x^2-y^2}{\\left(x^2+y^2\\right)^2}$$\n\n$$v\\left(x,y\\right) = -\\frac{\\partial\\psi}{\\partial x} = -\\frac{\\kappa}{2\\pi}\\frac{2xy}{\\left(x^2+y^2\\right)^2}$$",
      "metadata": {}
    },
    {
      "cell_type": "markdown",
      "source": "Lets try to compute it:\nWe'll place a doublet of strength $\\kappa=1$ at the origin, and add a free stream $U_\\infty=1$. \nWe can re-use the code we have written before by encupsulating the functions we've written in `/.py` files; this is always a good thing.\nThe files are placed in a `base_flow/` folder. Notice also the `__init__.py` file, from pythion docs: \n\n\"The __init__.py files are required to make Python treat directories containing the file as packages (unless using a namespace package, a relatively advanced feature). This prevents directories with a common name, such as string, from unintentionally hiding valid modules that occur later on the module search path. In the simplest case, __init__.py can just be an empty file, but it can also execute initialization code for the package or set the __all__ variable, described later.\"\n    ",
      "metadata": {}
    },
    {
      "cell_type": "code",
      "source": "from base_flows import uniform, source, doublet, vortex\nimport numpy as np\nfrom matplotlib import pyplot as plt",
      "metadata": {
        "trusted": true
      },
      "outputs": [
        {
          "ename": "<class 'ModuleNotFoundError'>",
          "evalue": "No module named 'base_flows'",
          "traceback": [
            "\u001b[31m---------------------------------------------------------------------------\u001b[39m",
            "\u001b[31mModuleNotFoundError\u001b[39m                       Traceback (most recent call last)",
            "\u001b[36mCell\u001b[39m\u001b[36m \u001b[39m\u001b[32mIn[1]\u001b[39m\u001b[32m, line 1\u001b[39m\n\u001b[32m----> \u001b[39m\u001b[32m1\u001b[39m \u001b[38;5;28;01mfrom\u001b[39;00m\u001b[38;5;250m \u001b[39m\u001b[34;01mbase_flows\u001b[39;00m\u001b[38;5;250m \u001b[39m\u001b[38;5;28;01mimport\u001b[39;00m uniform, source, doublet, vortex\n\u001b[32m      2\u001b[39m \u001b[38;5;28;01mimport\u001b[39;00m\u001b[38;5;250m \u001b[39m\u001b[34;01mnumpy\u001b[39;00m\u001b[38;5;250m \u001b[39m\u001b[38;5;28;01mas\u001b[39;00m\u001b[38;5;250m \u001b[39m\u001b[34;01mnp\u001b[39;00m\n\u001b[32m      3\u001b[39m \u001b[38;5;28;01mfrom\u001b[39;00m\u001b[38;5;250m \u001b[39m\u001b[34;01mmatplotlib\u001b[39;00m\u001b[38;5;250m \u001b[39m\u001b[38;5;28;01mimport\u001b[39;00m pyplot \u001b[38;5;28;01mas\u001b[39;00m plt\n",
            "\u001b[31mModuleNotFoundError\u001b[39m: No module named 'base_flows'"
          ],
          "output_type": "error"
        }
      ],
      "execution_count": 1
    },
    {
      "cell_type": "code",
      "source": "N = 50                                # Number of points in each direction\nx_start, x_end = -2.0, 2.0            # x-direction boundaries\ny_start, y_end = -1.0, 1.0            # y-direction boundaries\nx = np.linspace(x_start, x_end, N)    # computes a 1D-array for x\ny = np.linspace(y_start, y_end, N)    # computes a 1D-array for y\nX, Y = np.meshgrid(x, y)              # generates a mesh grid",
      "metadata": {
        "trusted": true
      },
      "outputs": [
        {
          "ename": "<class 'NameError'>",
          "evalue": "name 'np' is not defined",
          "traceback": [
            "\u001b[31m---------------------------------------------------------------------------\u001b[39m",
            "\u001b[31mNameError\u001b[39m                                 Traceback (most recent call last)",
            "\u001b[36mCell\u001b[39m\u001b[36m \u001b[39m\u001b[32mIn[2]\u001b[39m\u001b[32m, line 4\u001b[39m\n\u001b[32m      2\u001b[39m x_start, x_end = -\u001b[32m2.0\u001b[39m, \u001b[32m2.0\u001b[39m            \u001b[38;5;66;03m# x-direction boundaries\u001b[39;00m\n\u001b[32m      3\u001b[39m y_start, y_end = -\u001b[32m1.0\u001b[39m, \u001b[32m1.0\u001b[39m            \u001b[38;5;66;03m# y-direction boundaries\u001b[39;00m\n\u001b[32m----> \u001b[39m\u001b[32m4\u001b[39m x = \u001b[43mnp\u001b[49m.linspace(x_start, x_end, N)    \u001b[38;5;66;03m# computes a 1D-array for x\u001b[39;00m\n\u001b[32m      5\u001b[39m y = np.linspace(y_start, y_end, N)    \u001b[38;5;66;03m# computes a 1D-array for y\u001b[39;00m\n\u001b[32m      6\u001b[39m X, Y = np.meshgrid(x, y)              \u001b[38;5;66;03m# generates a mesh grid\u001b[39;00m\n",
            "\u001b[31mNameError\u001b[39m: name 'np' is not defined"
          ],
          "output_type": "error"
        }
      ],
      "execution_count": 2
    },
    {
      "cell_type": "code",
      "source": "kappa = 1.0                           # strength of the doublet\nx_doublet, y_doublet = 0.0, 0.0       # location of the doublet\nu_inf = 1.0                           # freestream speed",
      "metadata": {
        "trusted": true
      },
      "outputs": [],
      "execution_count": 3
    },
    {
      "cell_type": "code",
      "source": "# compute the velocity field on the mesh grid\nu_doublet, v_doublet = doublet.get_velocity(kappa, x_doublet, y_doublet, X, Y)\n\n# compute the stream-function on the mesh grid\npsi_doublet = doublet.get_stream_function(kappa, x_doublet, y_doublet, X, Y)\n\n# freestream velocity components\nu_freestream,v_freestream  = uniform.get_velocity(u_inf,X,Y)\n\n# stream-function of the freestream flow\npsi_freestream = uniform.get_stream_function(u_inf,X,Y)\n\n# superposition of the doublet on the freestream flow\nu = u_freestream + u_doublet\nv = v_freestream + v_doublet\npsi = psi_freestream + psi_doublet",
      "metadata": {
        "trusted": true
      },
      "outputs": [
        {
          "ename": "<class 'NameError'>",
          "evalue": "name 'doublet' is not defined",
          "traceback": [
            "\u001b[31m---------------------------------------------------------------------------\u001b[39m",
            "\u001b[31mNameError\u001b[39m                                 Traceback (most recent call last)",
            "\u001b[36mCell\u001b[39m\u001b[36m \u001b[39m\u001b[32mIn[4]\u001b[39m\u001b[32m, line 2\u001b[39m\n\u001b[32m      1\u001b[39m \u001b[38;5;66;03m# compute the velocity field on the mesh grid\u001b[39;00m\n\u001b[32m----> \u001b[39m\u001b[32m2\u001b[39m u_doublet, v_doublet = \u001b[43mdoublet\u001b[49m.get_velocity(kappa, x_doublet, y_doublet, X, Y)\n\u001b[32m      4\u001b[39m \u001b[38;5;66;03m# compute the stream-function on the mesh grid\u001b[39;00m\n\u001b[32m      5\u001b[39m psi_doublet = doublet.get_stream_function(kappa, x_doublet, y_doublet, X, Y)\n",
            "\u001b[31mNameError\u001b[39m: name 'doublet' is not defined"
          ],
          "output_type": "error"
        }
      ],
      "execution_count": 4
    },
    {
      "cell_type": "code",
      "source": "# plot the streamlines\nwidth = 10\nheight = (y_end - y_start) / (x_end - x_start) * width\nplt.figure(figsize=(width, height))\nplt.xlabel('x', fontsize=16)\nplt.ylabel('y', fontsize=16)\nplt.xlim(x_start, x_end)\nplt.ylim(y_start, y_end)\nplt.streamplot(X, Y, u, v, density=2, linewidth=1, arrowsize=1, arrowstyle='->')\nplt.scatter(x_doublet, y_doublet, color='#CD2305', s=80, marker='o')\n\n# calculate the cylinder radius and add the cylinder to the figure\nR = np.sqrt(kappa / (2 * np.pi * u_inf))\ncircle = plt.Circle((0, 0), radius=R, color='#CD2305', alpha=0.5)\nplt.gca().add_patch(circle)\n\n# calculate the stagnation points and add them to the figure\nx_stagn1, y_stagn1 = +np.sqrt(kappa / (2 * np.pi * u_inf)), 0.0\nx_stagn2, y_stagn2 = -np.sqrt(kappa / (2 * np.pi * u_inf)), 0.0\nplt.scatter([x_stagn1, x_stagn2], [y_stagn1, y_stagn2],\n               color='g', s=80, marker='o');",
      "metadata": {
        "trusted": true
      },
      "outputs": [
        {
          "ename": "<class 'NameError'>",
          "evalue": "name 'plt' is not defined",
          "traceback": [
            "\u001b[31m---------------------------------------------------------------------------\u001b[39m",
            "\u001b[31mNameError\u001b[39m                                 Traceback (most recent call last)",
            "\u001b[36mCell\u001b[39m\u001b[36m \u001b[39m\u001b[32mIn[5]\u001b[39m\u001b[32m, line 4\u001b[39m\n\u001b[32m      2\u001b[39m width = \u001b[32m10\u001b[39m\n\u001b[32m      3\u001b[39m height = (y_end - y_start) / (x_end - x_start) * width\n\u001b[32m----> \u001b[39m\u001b[32m4\u001b[39m \u001b[43mplt\u001b[49m.figure(figsize=(width, height))\n\u001b[32m      5\u001b[39m plt.xlabel(\u001b[33m'\u001b[39m\u001b[33mx\u001b[39m\u001b[33m'\u001b[39m, fontsize=\u001b[32m16\u001b[39m)\n\u001b[32m      6\u001b[39m plt.ylabel(\u001b[33m'\u001b[39m\u001b[33my\u001b[39m\u001b[33m'\u001b[39m, fontsize=\u001b[32m16\u001b[39m)\n",
            "\u001b[31mNameError\u001b[39m: name 'plt' is not defined"
          ],
          "output_type": "error"
        }
      ],
      "execution_count": 5
    },
    {
      "cell_type": "markdown",
      "source": "We obtained cylinder flow. \n\nNow, let's add a vortex located at the origin with a positive strength $\\Gamma$. In Cartesian coordinates, the stream function and velocity components are given by:\n\n$$\\psi\\left(x,y\\right) = \\frac{\\Gamma}{4\\pi}\\ln\\left(x^2+y^2\\right)$$\n\n$$u\\left(x,y\\right) = \\frac{\\Gamma}{2\\pi}\\frac{y}{x^2+y^2} \\qquad v\\left(x,y\\right) = -\\frac{\\Gamma}{2\\pi}\\frac{x}{x^2+y^2}$$",
      "metadata": {}
    },
    {
      "cell_type": "code",
      "source": "gamma = 4.0                      # strength of the vortex\nx_vortex, y_vortex = 0.0, 0.0    # location of the vortex",
      "metadata": {
        "trusted": true
      },
      "outputs": [],
      "execution_count": 6
    },
    {
      "cell_type": "code",
      "source": "# compute the velocity field on the mesh grid\nu_vortex, v_vortex = vortex.get_velocity(gamma, x_vortex, y_vortex, X, Y)\n\n# compute the stream-function on the mesh grid\npsi_vortex = vortex.get_stream_function(gamma, x_vortex, y_vortex, X, Y)",
      "metadata": {
        "trusted": true
      },
      "outputs": [
        {
          "ename": "<class 'NameError'>",
          "evalue": "name 'vortex' is not defined",
          "traceback": [
            "\u001b[31m---------------------------------------------------------------------------\u001b[39m",
            "\u001b[31mNameError\u001b[39m                                 Traceback (most recent call last)",
            "\u001b[36mCell\u001b[39m\u001b[36m \u001b[39m\u001b[32mIn[7]\u001b[39m\u001b[32m, line 2\u001b[39m\n\u001b[32m      1\u001b[39m \u001b[38;5;66;03m# compute the velocity field on the mesh grid\u001b[39;00m\n\u001b[32m----> \u001b[39m\u001b[32m2\u001b[39m u_vortex, v_vortex = \u001b[43mvortex\u001b[49m.get_velocity(gamma, x_vortex, y_vortex, X, Y)\n\u001b[32m      4\u001b[39m \u001b[38;5;66;03m# compute the stream-function on the mesh grid\u001b[39;00m\n\u001b[32m      5\u001b[39m psi_vortex = vortex.get_stream_function(gamma, x_vortex, y_vortex, X, Y)\n",
            "\u001b[31mNameError\u001b[39m: name 'vortex' is not defined"
          ],
          "output_type": "error"
        }
      ],
      "execution_count": 7
    },
    {
      "cell_type": "code",
      "source": "# superposition of the doublet and the vortex on the freestream flow\nu = u_freestream + u_doublet + u_vortex\nv = v_freestream + v_doublet + v_vortex\npsi = psi_freestream + psi_doublet + psi_vortex",
      "metadata": {
        "trusted": true
      },
      "outputs": [
        {
          "ename": "<class 'NameError'>",
          "evalue": "name 'u_freestream' is not defined",
          "traceback": [
            "\u001b[31m---------------------------------------------------------------------------\u001b[39m",
            "\u001b[31mNameError\u001b[39m                                 Traceback (most recent call last)",
            "\u001b[36mCell\u001b[39m\u001b[36m \u001b[39m\u001b[32mIn[8]\u001b[39m\u001b[32m, line 2\u001b[39m\n\u001b[32m      1\u001b[39m \u001b[38;5;66;03m# superposition of the doublet and the vortex on the freestream flow\u001b[39;00m\n\u001b[32m----> \u001b[39m\u001b[32m2\u001b[39m u = \u001b[43mu_freestream\u001b[49m + u_doublet + u_vortex\n\u001b[32m      3\u001b[39m v = v_freestream + v_doublet + v_vortex\n\u001b[32m      4\u001b[39m psi = psi_freestream + psi_doublet + psi_vortex\n",
            "\u001b[31mNameError\u001b[39m: name 'u_freestream' is not defined"
          ],
          "output_type": "error"
        }
      ],
      "execution_count": 8
    },
    {
      "cell_type": "code",
      "source": "# calculate the cylinder radius\nR = np.sqrt(kappa / (2 * np.pi * u_inf))\n\n# calculate the stagnation points\nx_stagn1, y_stagn1 = (+np.sqrt(R**2 - (gamma / (4 * np.pi * u_inf))**2),\n                      -gamma / (4 * np.pi * u_inf))\nx_stagn2, y_stagn2 = (-np.sqrt(R**2 - (gamma / (4 * np.pi * u_inf))**2),\n                      -gamma / (4 * np.pi * u_inf))\n\n# plot the streamlines\nwidth = 10\nheight = (y_end - y_start) / (x_end - x_start) * width\nplt.figure(figsize=(width, height))\nplt.xlabel('x', fontsize=16)\nplt.ylabel('y', fontsize=16)\nplt.xlim(x_start, x_end)\nplt.ylim(y_start, y_end)\nplt.streamplot(X, Y, u, v,\n                  density=2, linewidth=1, arrowsize=1.5, arrowstyle='->')\ncircle = plt.Circle((0.0, 0.0), radius=R, color='#CD2305', alpha=0.5)\nplt.gca().add_patch(circle)\nplt.scatter(x_vortex, y_vortex, color='#CD2305', s=80, marker='o')\nplt.scatter([x_stagn1, x_stagn2], [y_stagn1, y_stagn2],\n               color='g', s=80, marker='o');",
      "metadata": {
        "trusted": true
      },
      "outputs": [
        {
          "ename": "<class 'NameError'>",
          "evalue": "name 'np' is not defined",
          "traceback": [
            "\u001b[31m---------------------------------------------------------------------------\u001b[39m",
            "\u001b[31mNameError\u001b[39m                                 Traceback (most recent call last)",
            "\u001b[36mCell\u001b[39m\u001b[36m \u001b[39m\u001b[32mIn[9]\u001b[39m\u001b[32m, line 2\u001b[39m\n\u001b[32m      1\u001b[39m \u001b[38;5;66;03m# calculate the cylinder radius\u001b[39;00m\n\u001b[32m----> \u001b[39m\u001b[32m2\u001b[39m R = \u001b[43mnp\u001b[49m.sqrt(kappa / (\u001b[32m2\u001b[39m * np.pi * u_inf))\n\u001b[32m      4\u001b[39m \u001b[38;5;66;03m# calculate the stagnation points\u001b[39;00m\n\u001b[32m      5\u001b[39m x_stagn1, y_stagn1 = (+np.sqrt(R**\u001b[32m2\u001b[39m - (gamma / (\u001b[32m4\u001b[39m * np.pi * u_inf))**\u001b[32m2\u001b[39m),\n\u001b[32m      6\u001b[39m                       -gamma / (\u001b[32m4\u001b[39m * np.pi * u_inf))\n",
            "\u001b[31mNameError\u001b[39m: name 'np' is not defined"
          ],
          "output_type": "error"
        }
      ],
      "execution_count": 9
    },
    {
      "cell_type": "markdown",
      "source": "What hapens if $\\ \\frac{\\Gamma}{4\\pi U_\\infty R} >1$?\n\nGo back and experiment with a value of $\\Gamma$ that causes this.\nis the radius of the cylinder stayed the same?",
      "metadata": {}
    },
    {
      "cell_type": "markdown",
      "source": "## Pressure coefficient\n\nFrom the doublet notebook, we know that the pressure coefficient is defined by\n\n$$C_p = 1-\\frac{U^2}{U_\\infty^2}$$\n\nwhere $U^2 = u^2+v^2 = u_r^2+u_\\theta^2$.\n(On the cylinder $u_{r}=0$)\n\n\n$$u_r\\left(r,\\theta\\right) = U_\\infty \\cos\\theta \\left(1-\\frac{R^2}{r^2}\\right)$$\n\n$$u_\\theta\\left(r,\\theta\\right) = -U_\\infty \\sin\\theta \\left(1+\\frac{R^2}{r^2}\\right) - \\frac{\\Gamma}{2\\pi r}$$\n\nwhere $R$ is the cylinder radius.\n\nWe see that the radial component vanishes on the surface of the cylinder whereas the tangential velocity is given by\n\n$$u_\\theta\\left(R,\\theta\\right) = -2U_\\infty \\sin\\theta - \\frac{\\Gamma}{2\\pi R} .$$\n\nNote when there is no vortex, the tangential velocity on the cylinder becomes\n\n$$u_\\theta\\left(R,\\theta\\right) = -2U_\\infty \\sin\\theta .$$",
      "metadata": {}
    },
    {
      "cell_type": "code",
      "source": "# calculate the surface tangential velocity on the cylinder\ntheta = np.linspace(0.0, 2 * np.pi, 100)\nu_theta = -2 * u_inf * np.sin(theta) - gamma / (2 * np.pi * R)\n\n# compute the surface pressure coefficient\ncp = 1.0 - (u_theta / u_inf)**2\n\n# if there was no vortex\nu_theta_no_vortex = -2 * u_inf * np.sin(theta)\ncp_no_vortex = 1.0 - (u_theta_no_vortex / u_inf)**2\n\n# plot the surface pressure coefficient\nsize = 6\nplt.figure(figsize=(size, size))\nplt.grid(True)\nplt.xlabel(r'$\\theta$', fontsize=18)\nplt.ylabel('$C_p$', fontsize=18)\nplt.xlim(theta.min(), theta.max())\nplt.plot(theta, cp,\n            label='with vortex', color='#CD2305', linewidth=2, linestyle='-')\nplt.plot(theta, cp_no_vortex,\n            label='without vortex', color='g', linewidth=2, linestyle='-')\nplt.legend(loc='best', prop={'size':16});",
      "metadata": {
        "trusted": true
      },
      "outputs": [
        {
          "ename": "<class 'NameError'>",
          "evalue": "name 'np' is not defined",
          "traceback": [
            "\u001b[31m---------------------------------------------------------------------------\u001b[39m",
            "\u001b[31mNameError\u001b[39m                                 Traceback (most recent call last)",
            "\u001b[36mCell\u001b[39m\u001b[36m \u001b[39m\u001b[32mIn[10]\u001b[39m\u001b[32m, line 2\u001b[39m\n\u001b[32m      1\u001b[39m \u001b[38;5;66;03m# calculate the surface tangential velocity on the cylinder\u001b[39;00m\n\u001b[32m----> \u001b[39m\u001b[32m2\u001b[39m theta = \u001b[43mnp\u001b[49m.linspace(\u001b[32m0.0\u001b[39m, \u001b[32m2\u001b[39m * np.pi, \u001b[32m100\u001b[39m)\n\u001b[32m      3\u001b[39m u_theta = -\u001b[32m2\u001b[39m * u_inf * np.sin(theta) - gamma / (\u001b[32m2\u001b[39m * np.pi * R)\n\u001b[32m      5\u001b[39m \u001b[38;5;66;03m# compute the surface pressure coefficient\u001b[39;00m\n",
            "\u001b[31mNameError\u001b[39m: name 'np' is not defined"
          ],
          "output_type": "error"
        }
      ],
      "execution_count": 10
    },
    {
      "cell_type": "markdown",
      "source": "## \nLift and Drag\nThe lift is the component of force perpendicular to $U_\\infty$, while the drag is the component parallel to $U_\\infty$. How could we get them with the information we have above? \n\nWell, the force on the cylinder is a product of the pressure acting on its surface (there is no viscosity here: it's ideal flow). If you draw a free body diagram, you should see that:\n\n$$D = -\\int_0^{2\\pi} p \\ \\cos\\theta \\ R \\ d\\theta$$\n\n$$L = -\\int_0^{2\\pi} p \\ \\sin\\theta \\ R \\ d\\theta$$\n\nchalenge:\nUsing Bernoulli's equation, replace $p$ in the equations above to obtain the lift and drag.\n\nWhat does this mean?",
      "metadata": {}
    },
    {
      "cell_type": "markdown",
      "source": "אפקט מגנוס נגרם כאשר גוף מסתובב נמצא בתוך זרימה חופשית. הסיבוב משנה את התפלגות המהירויות סביב הגוף – בצד אחד הזרימה מואצת ובצד השני מואטת, מה שיוצר הפרש לחצים. הפרש זה יוצר כוח עילוי ניצב לכיוון הזרימה,\nהגדלת הסירקולציה מחזקת את אפקט מגנוס ונוצר כוח עילוי חזק יותר. לעומת זאת, הגדלת מהירות הזרימה המציפה מפחיתה את ההשפעה היחסית של הסירקולציה, כך שהעיוות בזרימה קטן. בתוך הגוף, סירקולציה גבוהה יוצרת ערבולים פנימיים חזקים יותר ובהתאם גם סיבוב חזק יותר. \n",
      "metadata": {}
    },
    {
      "cell_type": "code",
      "source": "",
      "metadata": {
        "trusted": true
      },
      "outputs": [],
      "execution_count": null
    }
  ]
}